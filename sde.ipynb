{
 "cells": [
  {
   "cell_type": "code",
   "execution_count": 16,
   "metadata": {
    "collapsed": false
   },
   "outputs": [],
   "source": [
    "import pandas as pd\n",
    "import numpy as np\n",
    "import matplotlib.pyplot as plt\n",
    "import plotly.plotly as py\n",
    "plt.style.use('ggplot')\n",
    "%matplotlib inline\n",
    "from tqdm import tqdm\n",
    "pd.options.display.max_columns=100"
   ]
  },
  {
   "cell_type": "code",
   "execution_count": 48,
   "metadata": {
    "collapsed": false
   },
   "outputs": [
    {
     "data": {
      "text/html": [
       "<div>\n",
       "<style>\n",
       "    .dataframe thead tr:only-child th {\n",
       "        text-align: right;\n",
       "    }\n",
       "\n",
       "    .dataframe thead th {\n",
       "        text-align: left;\n",
       "    }\n",
       "\n",
       "    .dataframe tbody tr th {\n",
       "        vertical-align: top;\n",
       "    }\n",
       "</style>\n",
       "<table border=\"1\" class=\"dataframe\">\n",
       "  <thead>\n",
       "    <tr style=\"text-align: right;\">\n",
       "      <th></th>\n",
       "      <th>year</th>\n",
       "      <th>importer1</th>\n",
       "      <th>importer2</th>\n",
       "      <th>flow1</th>\n",
       "      <th>flow2</th>\n",
       "    </tr>\n",
       "  </thead>\n",
       "  <tbody>\n",
       "    <tr>\n",
       "      <th>0</th>\n",
       "      <td>1920</td>\n",
       "      <td>United States of America</td>\n",
       "      <td>Canada</td>\n",
       "      <td>611.85999</td>\n",
       "      <td>735.47998</td>\n",
       "    </tr>\n",
       "    <tr>\n",
       "      <th>1</th>\n",
       "      <td>1921</td>\n",
       "      <td>United States of America</td>\n",
       "      <td>Canada</td>\n",
       "      <td>335.44000</td>\n",
       "      <td>442.98999</td>\n",
       "    </tr>\n",
       "    <tr>\n",
       "      <th>2</th>\n",
       "      <td>1922</td>\n",
       "      <td>United States of America</td>\n",
       "      <td>Canada</td>\n",
       "      <td>364.01999</td>\n",
       "      <td>502.84000</td>\n",
       "    </tr>\n",
       "    <tr>\n",
       "      <th>3</th>\n",
       "      <td>1923</td>\n",
       "      <td>United States of America</td>\n",
       "      <td>Canada</td>\n",
       "      <td>416.00000</td>\n",
       "      <td>598.14001</td>\n",
       "    </tr>\n",
       "    <tr>\n",
       "      <th>4</th>\n",
       "      <td>1924</td>\n",
       "      <td>United States of America</td>\n",
       "      <td>Canada</td>\n",
       "      <td>399.14001</td>\n",
       "      <td>496.32001</td>\n",
       "    </tr>\n",
       "  </tbody>\n",
       "</table>\n",
       "</div>"
      ],
      "text/plain": [
       "   year                 importer1 importer2      flow1      flow2\n",
       "0  1920  United States of America    Canada  611.85999  735.47998\n",
       "1  1921  United States of America    Canada  335.44000  442.98999\n",
       "2  1922  United States of America    Canada  364.01999  502.84000\n",
       "3  1923  United States of America    Canada  416.00000  598.14001\n",
       "4  1924  United States of America    Canada  399.14001  496.32001"
      ]
     },
     "execution_count": 48,
     "metadata": {},
     "output_type": "execute_result"
    }
   ],
   "source": [
    "data = pd.read_csv('Dyadic_COW_4.0.csv')\n",
    "data = data.iloc[:,2:7]\n",
    "data.head()"
   ]
  },
  {
   "cell_type": "markdown",
   "metadata": {},
   "source": [
    "Now, a first step is to reshape the data so that the flow2 column is below flow 1."
   ]
  },
  {
   "cell_type": "code",
   "execution_count": 5,
   "metadata": {
    "collapsed": false
   },
   "outputs": [
    {
     "data": {
      "text/html": [
       "<div>\n",
       "<style>\n",
       "    .dataframe thead tr:only-child th {\n",
       "        text-align: right;\n",
       "    }\n",
       "\n",
       "    .dataframe thead th {\n",
       "        text-align: left;\n",
       "    }\n",
       "\n",
       "    .dataframe tbody tr th {\n",
       "        vertical-align: top;\n",
       "    }\n",
       "</style>\n",
       "<table border=\"1\" class=\"dataframe\">\n",
       "  <thead>\n",
       "    <tr style=\"text-align: right;\">\n",
       "      <th></th>\n",
       "      <th>Country_A</th>\n",
       "      <th>Country_B</th>\n",
       "      <th>flow</th>\n",
       "      <th>year</th>\n",
       "    </tr>\n",
       "  </thead>\n",
       "  <tbody>\n",
       "    <tr>\n",
       "      <th>0</th>\n",
       "      <td>United States of America</td>\n",
       "      <td>Canada</td>\n",
       "      <td>611.85999</td>\n",
       "      <td>1920</td>\n",
       "    </tr>\n",
       "    <tr>\n",
       "      <th>1</th>\n",
       "      <td>Canada</td>\n",
       "      <td>United States of America</td>\n",
       "      <td>735.47998</td>\n",
       "      <td>1920</td>\n",
       "    </tr>\n",
       "    <tr>\n",
       "      <th>2</th>\n",
       "      <td>United States of America</td>\n",
       "      <td>Canada</td>\n",
       "      <td>335.44000</td>\n",
       "      <td>1921</td>\n",
       "    </tr>\n",
       "    <tr>\n",
       "      <th>3</th>\n",
       "      <td>Canada</td>\n",
       "      <td>United States of America</td>\n",
       "      <td>442.98999</td>\n",
       "      <td>1921</td>\n",
       "    </tr>\n",
       "    <tr>\n",
       "      <th>4</th>\n",
       "      <td>United States of America</td>\n",
       "      <td>Canada</td>\n",
       "      <td>364.01999</td>\n",
       "      <td>1922</td>\n",
       "    </tr>\n",
       "  </tbody>\n",
       "</table>\n",
       "</div>"
      ],
      "text/plain": [
       "                  Country_A                 Country_B       flow  year\n",
       "0  United States of America                    Canada  611.85999  1920\n",
       "1                    Canada  United States of America  735.47998  1920\n",
       "2  United States of America                    Canada  335.44000  1921\n",
       "3                    Canada  United States of America  442.98999  1921\n",
       "4  United States of America                    Canada  364.01999  1922"
      ]
     },
     "execution_count": 5,
     "metadata": {},
     "output_type": "execute_result"
    }
   ],
   "source": [
    "# Data flow1\n",
    "data_flow_1 = data.loc[:, ['year', 'importer1', 'importer2', 'flow1']]\n",
    "data_flow_2 = data.loc[:, ['year', 'importer1', 'importer2', 'flow2']]\n",
    "data_flow_1.columns = ['year', 'Country_A', 'Country_B', 'flow']\n",
    "data_flow_2.columns = ['year', 'Country_B', 'Country_A', 'flow']\n",
    "# Dataset in good shape\n",
    "df = pd.concat([data_flow_1, data_flow_2]).sort_index().reset_index(drop=True)\n",
    "df.head()"
   ]
  },
  {
   "cell_type": "markdown",
   "metadata": {
    "collapsed": false
   },
   "source": [
    "The flow represents the imports of Country_A from Country_B, in US millions of current dollars."
   ]
  },
  {
   "cell_type": "markdown",
   "metadata": {},
   "source": [
    "### Descriptive statistics about the evolution of the network"
   ]
  },
  {
   "cell_type": "code",
   "execution_count": 6,
   "metadata": {
    "collapsed": false
   },
   "outputs": [],
   "source": [
    "n_nodes = []\n",
    "n_edges = []\n",
    "for i in range(1950,2015):\n",
    "    data_more_1950 = df.loc[np.where(df.year==i)[0], :]\n",
    "    n_nodes.append(data_more_1950['Country_A'].nunique())\n",
    "    n_edges.append(len(data_more_1950))"
   ]
  },
  {
   "cell_type": "code",
   "execution_count": 7,
   "metadata": {
    "collapsed": false
   },
   "outputs": [],
   "source": [
    "df_resume = pd.DataFrame({'year':[i for i in range(1950,2015)], 'Nb_nodes': n_nodes, 'Nb_edges':n_edges})"
   ]
  },
  {
   "cell_type": "code",
   "execution_count": 21,
   "metadata": {
    "collapsed": false
   },
   "outputs": [
    {
     "data": {
      "text/plain": [
       "Text(0,0.5,'Number of nodes')"
      ]
     },
     "execution_count": 21,
     "metadata": {},
     "output_type": "execute_result"
    },
    {
     "data": {
      "image/png": "[encoded data removed]",
      "text/plain": [
       "<Figure size 600x400 with 1 Axes>"
      ]
     },
     "metadata": {},
     "output_type": "display_data"
    }
   ],
   "source": [
    "plt.plot(df_resume.year, df_resume.Nb_nodes, c = 'blue')\n",
    "plt.xlabel('Year')\n",
    "plt.ylabel('Number of nodes')"
   ]
  },
  {
   "cell_type": "markdown",
   "metadata": {},
   "source": [
    "The number of country in the network increases."
   ]
  },
  {
   "cell_type": "code",
   "execution_count": 22,
   "metadata": {
    "collapsed": false
   },
   "outputs": [
    {
     "data": {
      "text/plain": [
       "Text(0,0.5,'Number of edges')"
      ]
     },
     "execution_count": 22,
     "metadata": {},
     "output_type": "execute_result"
    },
    {
     "data": {
      "image/png": "[encoded data removed]",
      "text/plain": [
       "<Figure size 600x400 with 1 Axes>"
      ]
     },
     "metadata": {},
     "output_type": "display_data"
    }
   ],
   "source": [
    "plt.plot(df_resume.year, df_resume.Nb_edges, c = 'blue')\n",
    "plt.xlabel('Year')\n",
    "plt.ylabel('Number of edges')"
   ]
  },
  {
   "cell_type": "markdown",
   "metadata": {},
   "source": [
    "The number of exchanges increases."
   ]
  },
  {
   "cell_type": "code",
   "execution_count": 20,
   "metadata": {
    "collapsed": false
   },
   "outputs": [
    {
     "data": {
      "text/plain": [
       "Text(0,0.5,'Number of exchanges per country')"
      ]
     },
     "execution_count": 20,
     "metadata": {},
     "output_type": "execute_result"
    },
    {
     "data": {
      "image/png": "[encoded data removed]",
      "text/plain": [
       "<Figure size 600x400 with 1 Axes>"
      ]
     },
     "metadata": {},
     "output_type": "display_data"
    }
   ],
   "source": [
    "plt.plot(df_resume.year, df_resume.Nb_edges / df_resume.Nb_nodes, c = 'blue')\n",
    "plt.axvline(x=1989, c = 'red')\n",
    "plt.axvline(x=1993, c = 'red')\n",
    "plt.xlabel('Year')\n",
    "plt.ylabel('Number of exchanges per country')"
   ]
  },
  {
   "cell_type": "markdown",
   "metadata": {},
   "source": [
    "The number of relation per country increases.\n",
    "\n",
    "We can notice a drop in the years 1989-1993. It can come from the explosion of URSS. I will verify it."
   ]
  },
  {
   "cell_type": "code",
   "execution_count": 31,
   "metadata": {
    "collapsed": false
   },
   "outputs": [],
   "source": [
    "lost_countries = list(set(df.loc[np.where(df.year==1989)[0],:].Country_A) - \n",
    "                      set(df.loc[np.where(df.year==1993)[0],:].Country_A))\n",
    "new_countries = list(set(df.loc[np.where(df.year==1993)[0],:].Country_A) - \n",
    "                      set(df.loc[np.where(df.year==1989)[0],:].Country_A))"
   ]
  },
  {
   "cell_type": "code",
   "execution_count": 35,
   "metadata": {
    "collapsed": false
   },
   "outputs": [],
   "source": [
    "from geopy.geocoders import Nominatim\n",
    "geolocator = Nominatim()\n",
    "# Get coordinated of new countries\n",
    "coordinates_new_countries = []\n",
    "for i in new_countries:\n",
    "    try:\n",
    "        location = geolocator.geocode(i)\n",
    "        coordinates_new_countries.append((location.latitude, location.longitude))\n",
    "    except:\n",
    "        coordinates_new_countries.append(('lat not found', 'lon not found'))\n",
    "# Get coordinated of lost countries\n",
    "coordinates_lost_countries = []\n",
    "for i in lost_countries:\n",
    "    try:\n",
    "        location = geolocator.geocode(i)\n",
    "        coordinates_lost_countries.append((location.latitude, location.longitude))\n",
    "    except:\n",
    "        coordinates_lost_countries.append(('lat not found', 'lon not found'))"
   ]
  },
  {
   "cell_type": "code",
   "execution_count": 74,
   "metadata": {
    "collapsed": false
   },
   "outputs": [],
   "source": [
    "df = pd.DataFrame({'Name': new_countries, 'lat': [i[0] for i in coordinates_new_countries], 'long': [i[1] for i in coordinates_new_countries]})"
   ]
  },
  {
   "cell_type": "code",
   "execution_count": 86,
   "metadata": {
    "collapsed": false
   },
   "outputs": [
    {
     "data": {
      "text/html": [
       "<iframe id=\"igraph\" scrolling=\"no\" style=\"border:none;\" seamless=\"seamless\" src=\"https://plot.ly/~MathisLinger/50.embed\" height=\"525px\" width=\"100%\"></iframe>"
      ],
      "text/plain": [
       "<plotly.tools.PlotlyDisplay object>"
      ]
     },
     "execution_count": 86,
     "metadata": {},
     "output_type": "execute_result"
    }
   ],
   "source": [
    "data = [ dict(\n",
    "        type = 'scattergeo',\n",
    "        lon = df['long'],\n",
    "        lat = df['lat'],\n",
    "        text = df['Name'],\n",
    "        mode = 'markers',\n",
    "        marker = dict(\n",
    "            size = 3,\n",
    "            opacity = 1,\n",
    "            reversescale = True,\n",
    "            autocolorscale = False,\n",
    "            symbol = 'square',\n",
    "            color='red'\n",
    "        ))]\n",
    "\n",
    "layout = dict(\n",
    "        title = 'New countries between 1989 and 1993',\n",
    "        colorbar = True,\n",
    "        geo = dict(\n",
    "            scope = 'europe',\n",
    "            projection=dict( type='mollweide' ),\n",
    "            showland = True,\n",
    "            landcolor = \"rgb(250, 250, 250)\",\n",
    "            subunitcolor = \"rgb(217, 217, 217)\",\n",
    "            countrycolor = \"rgb(217, 217, 217)\",\n",
    "            countrywidth = 0.5,\n",
    "            subunitwidth = 0.5\n",
    "        ),\n",
    "    )\n",
    "\n",
    "fig = dict( data=data, layout=layout )\n",
    "py.iplot( fig, validate=False)"
   ]
  },
  {
   "cell_type": "code",
   "execution_count": null,
   "metadata": {
    "collapsed": true
   },
   "outputs": [],
   "source": []
  }
 ],
 "metadata": {
  "anaconda-cloud": {},
  "kernelspec": {
   "display_name": "Python [Root]",
   "language": "python",
   "name": "Python [Root]"
  },
  "language_info": {
   "codemirror_mode": {
    "name": "ipython",
    "version": 3
   },
   "file_extension": ".py",
   "mimetype": "text/x-python",
   "name": "python",
   "nbconvert_exporter": "python",
   "pygments_lexer": "ipython3",
   "version": "3.5.2"
  }
 },
 "nbformat": 4,
 "nbformat_minor": 2
}
